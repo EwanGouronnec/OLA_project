{
 "cells": [
  {
   "cell_type": "markdown",
   "metadata": {},
   "source": [
    "# Requirement 1: Stochastic Environment"
   ]
  },
  {
   "cell_type": "code",
   "execution_count": 1,
   "metadata": {},
   "outputs": [],
   "source": [
    "import numpy as np\n",
    "import matplotlib.pyplot as plt\n",
    "import random\n",
    "import math"
   ]
  },
  {
   "cell_type": "code",
   "execution_count": 2,
   "metadata": {},
   "outputs": [],
   "source": [
    "# pricing parameters\n",
    "prices = np.linspace(0, 1, 100)\n",
    "n_customers = 100\n",
    "\n",
    "conversion_probability = lambda p: 1-p**2\n",
    "cost = 0.5\n",
    "min_price, max_price = 0, 1\n",
    "reward_function = lambda price, n_sales: (price-cost)*n_sales"
   ]
  },
  {
   "cell_type": "code",
   "execution_count": 3,
   "metadata": {},
   "outputs": [],
   "source": [
    "# auction parameters\n",
    "n_advertisers = 6\n",
    "q = np.array([0.9, 0.7, 0.5, 0.6, 0.85, 0.65]) # ad quality\n",
    "v = np.array([1.0, 1.0, 1.0, 0.85, 1.0, 0.9]) # advertisers value per click\n",
    "B = 20\n",
    "n_auctions = 300\n",
    "\n",
    "other_bids = np.random.uniform(0, 10*B/n_auctions, size = (n_advertisers-1, n_auctions))\n",
    "m_t = other_bids.max(axis=0) ### maximum bid at every round, NOT IN EXPECTATION\n",
    "\n",
    "n_slots = 3\n",
    "lmb = np.sort(np.array([0.6, 0.7, 0.9]))\n",
    "K=11\n",
    "available_bids = np.array([round(i, 1) for i in np.linspace(0,1,K)])"
   ]
  },
  {
   "cell_type": "markdown",
   "metadata": {},
   "source": [
    "## Environments"
   ]
  },
  {
   "cell_type": "code",
   "execution_count": 4,
   "metadata": {},
   "outputs": [],
   "source": [
    "class Environment:\n",
    "    def __init__(self):\n",
    "        pass\n",
    "\n",
    "    def round(self, a_t):\n",
    "        pass"
   ]
  },
  {
   "cell_type": "code",
   "execution_count": 5,
   "metadata": {},
   "outputs": [],
   "source": [
    "class PricingEnvironment:\n",
    "    def __init__(self, conversion_probability, cost):\n",
    "        self.conversion_probability = conversion_probability\n",
    "        self.cost = cost\n",
    "\n",
    "    def round(self, p_t, n_t):\n",
    "        d_t = np.random.binomial(n_t, self.conversion_probability(p_t)) # number of sells\n",
    "        r_t = (p_t - self.cost)*d_t # reward\n",
    "        return d_t, r_t"
   ]
  },
  {
   "cell_type": "code",
   "execution_count": 6,
   "metadata": {},
   "outputs": [],
   "source": [
    "class RBFGaussianProcess:\n",
    "    def __init__(self, scale=1, reg=1e-2):\n",
    "        self.scale = scale \n",
    "        self.reg = reg\n",
    "        self.k_xx_inv = None\n",
    "\n",
    "    def rbf_kernel_incr_inv(self, B, C, D):\n",
    "        temp = np.linalg.inv(D - C @ self.k_xx_inv @ B)\n",
    "        block1 = self.k_xx_inv + self.k_xx_inv @ B @ temp @ C @ self.k_xx_inv\n",
    "        block2 = - self.k_xx_inv @ B @ temp\n",
    "        block3 = - temp @ C @ self.k_xx_inv\n",
    "        block4 = temp\n",
    "        res1 = np.concatenate((block1, block2), axis=1)\n",
    "        res2 = np.concatenate((block3, block4), axis=1)\n",
    "        res = np.concatenate((res1, res2), axis=0)\n",
    "        return res\n",
    "\n",
    "    def rbf_kernel(self, a, b):\n",
    "        a_ = a.reshape(-1, 1)\n",
    "        b_ = b.reshape(-1, 1)\n",
    "        output = -1 * np.ones((a_.shape[0], b_.shape[0]))\n",
    "        for i in range(a_.shape[0]):\n",
    "            output[i, :] = np.power(a_[i] - b_, 2).ravel()\n",
    "        return np.exp(-self.scale * output)\n",
    "    \n",
    "    def fit(self, x=np.array([]), y=np.array([])):\n",
    "        x,y = np.array(x),np.array(y)\n",
    "        if self.k_xx_inv is None:\n",
    "            self.y = y.reshape(-1,1)\n",
    "            self.x = x.reshape(-1,1)\n",
    "            k_xx = self.rbf_kernel(self.x, self.x) + self.reg * np.eye(self.x.shape[0])\n",
    "            self.k_xx_inv = np.linalg.inv(k_xx)\n",
    "        else:\n",
    "            B = self.rbf_kernel(self.x, x)\n",
    "            self.x = np.vstack((self.x, x))\n",
    "            self.y = np.vstack((self.y, y))\n",
    "            self.k_xx_inv = self.rbf_kernel_incr_inv(B, B.T, np.array([1 + self.reg]))\n",
    "\n",
    "        return self\n",
    "\n",
    "    def predict(self, x_predict):\n",
    "        k = self.rbf_kernel(x_predict, self.x)\n",
    "\n",
    "        mu_hat = k @ self.k_xx_inv @ self.y\n",
    "        sigma_hat = 1 - np.diag(k @ self.k_xx_inv @ k.T)\n",
    "\n",
    "        return mu_hat.ravel(), sigma_hat.ravel()"
   ]
  },
  {
   "cell_type": "code",
   "execution_count": 7,
   "metadata": {},
   "outputs": [],
   "source": [
    "class Auction:\n",
    "    def __init__(self, *args, **kwargs):\n",
    "        pass\n",
    "\n",
    "    def get_winners(self, bids):\n",
    "        pass\n",
    "\n",
    "    def get_payments_per_click(self, winners, values, bids):\n",
    "        pass\n",
    "\n",
    "    def round(self, bids):\n",
    "        winners, values = self.get_winners(bids) # allocation mechanism!\n",
    "        payments_per_click = self.get_payments_per_click(winners, values, bids)\n",
    "        return winners, payments_per_click"
   ]
  },
  {
   "cell_type": "code",
   "execution_count": 8,
   "metadata": {},
   "outputs": [],
   "source": [
    "# truthful multiple slot auction\n",
    "class VCGAuction(Auction):\n",
    "    def __init__(self, ctrs, lambdas):\n",
    "        self.ctrs = ctrs\n",
    "        self.lambdas = lambdas\n",
    "        self.n_adv = len(self.ctrs)\n",
    "        self.n_slots = len(self.lambdas)\n",
    "\n",
    "    def get_winners(self, bids):\n",
    "        adv_values = self.ctrs*bids\n",
    "        adv_ranking = np.argsort(adv_values)\n",
    "        winners = adv_ranking[-self.n_slots:]\n",
    "        winners_values = adv_values[winners]\n",
    "        return winners, winners_values\n",
    "    \n",
    "    def get_payments_per_click(self, winners, values, bids):\n",
    "        payments_per_click = np.zeros(self.n_slots)\n",
    "        for i,w in enumerate(winners):\n",
    "            Y = sum(np.delete(values, i)*self.lambdas[-self.n_slots+1:])\n",
    "            X = sum(np.delete(values*self.lambdas, i))\n",
    "            payments_per_click[i] = (Y-X)/(self.lambdas[i]*self.ctrs[w])\n",
    "        return payments_per_click.round(2)"
   ]
  },
  {
   "cell_type": "code",
   "execution_count": 9,
   "metadata": {},
   "outputs": [],
   "source": [
    "class GeneralSecondPriceAuction(Auction):\n",
    "    def __init__(self, ctrs, lambdas):\n",
    "        self.ctrs = ctrs\n",
    "        self.lambdas = lambdas\n",
    "        self.n_adv = len(self.ctrs)\n",
    "        self.n_slots = len(self.lambdas)\n",
    "\n",
    "    def get_winners(self, bids):\n",
    "        adv_values = self.ctrs*bids\n",
    "        adv_ranking = np.argsort(adv_values)\n",
    "        winners = adv_ranking[-self.n_slots:]\n",
    "        winners_values = adv_values[winners]\n",
    "        return winners, winners_values\n",
    "\n",
    "    def get_payments_per_click(self, winners, values, bids):\n",
    "        adv_ranking = np.argsort(self.ctrs*bids)\n",
    "        shifted_bids = np.zeros(len(bids))\n",
    "        for i in range(1,len(adv_ranking)):\n",
    "          shifted_bids[adv_ranking[i]] = bids[adv_ranking[i-1]]\n",
    "        payments_per_click = np.zeros(self.n_slots)\n",
    "        for i,w in enumerate(winners):\n",
    "          payments_per_click[i] = shifted_bids[w]\n",
    "        return payments_per_click.round(2)"
   ]
  },
  {
   "cell_type": "markdown",
   "metadata": {},
   "source": [
    "## Agents"
   ]
  },
  {
   "cell_type": "code",
   "execution_count": 10,
   "metadata": {},
   "outputs": [],
   "source": [
    "class GPUCBAgent:\n",
    "    def __init__(self, T, discretization=100):\n",
    "        self.T = T\n",
    "        self.arms = np.linspace(0, 1, discretization)\n",
    "        self.gp = RBFGaussianProcess(scale=2).fit()\n",
    "        self.a_t = None\n",
    "        self.action_hist = np.array([])\n",
    "        self.reward_hist = np.array([])\n",
    "        self.mu_t = np.zeros(discretization)\n",
    "        self.sigma_t = np.zeros(discretization)\n",
    "        self.gamma = lambda t: np.log(t+1)**2 \n",
    "        self.beta = lambda t: 1 + 0.5*np.sqrt(2 * (self.gamma(t) + 1 + np.log(T)))\n",
    "        self.N_pulls = np.zeros(discretization)\n",
    "        self.t = 0\n",
    "    \n",
    "    def pull_arm(self):\n",
    "        self.mu_t, self.sigma_t = self.gp.predict(self.arms) \n",
    "        ucbs = self.mu_t + self.beta(t) * self.sigma_t\n",
    "        self.a_t = np.argmax(ucbs)\n",
    "        return self.arms[self.a_t]\n",
    "    \n",
    "    def update(self, r_t):\n",
    "        self.N_pulls[self.a_t] += 1\n",
    "        self.action_hist = np.append(self.action_hist, self.arms[self.a_t])\n",
    "        self.reward_hist = np.append(self.reward_hist, r_t)\n",
    "        self.gp = self.gp.fit(self.arms[self.a_t], r_t)\n",
    "        self.t += 1"
   ]
  },
  {
   "cell_type": "code",
   "execution_count": 11,
   "metadata": {},
   "outputs": [],
   "source": [
    "class MultiplicativePacingAgent:\n",
    "    def __init__(self, valuation, budget, T, eta):\n",
    "        self.valuation = valuation\n",
    "        self.budget = budget\n",
    "        self.eta = eta\n",
    "        self.T = T\n",
    "        self.rho = self.budget/self.T\n",
    "        self.lmbd = 1\n",
    "        self.t = 0\n",
    "\n",
    "    def bid(self):\n",
    "        if self.budget < 1:\n",
    "            return 0\n",
    "        return self.valuation/(self.lmbd+1)\n",
    "    \n",
    "    def update(self, f_t, c_t):\n",
    "        self.lmbd = np.clip(self.lmbd-self.eta*(self.rho-c_t), \n",
    "                            a_min=0, a_max=1/self.rho)\n",
    "        self.budget -= c_t"
   ]
  },
  {
   "cell_type": "code",
   "execution_count": 12,
   "metadata": {},
   "outputs": [],
   "source": [
    "class UCBBiddingAgent:\n",
    "    def __init__(self, bids_set, budget, valuation, T):\n",
    "      self.bids_set = bids_set\n",
    "      self.budget = budget\n",
    "      self.valuation = valuation\n",
    "      self.T = T\n",
    "      self.rho = self.budget/self.T\n",
    "      self.t = 0\n",
    "      self.bids_history = []\n",
    "      self.f = []\n",
    "      self.c = []\n",
    "\n",
    "    def bid(self):\n",
    "        if self.budget < 1:\n",
    "          self.bids_history.append(0)\n",
    "          return 0\n",
    "        elif self.t<len(self.bids_set):\n",
    "          self.bids_history.append(self.bids_set[self.t])\n",
    "          return self.bids_set[self.t]\n",
    "        else:\n",
    "          f_opti, c_opti, sup, best_bid = 0, 0, 0, 0\n",
    "          for bid in self.bids_set:\n",
    "            f_t = 0\n",
    "            c_t = 0\n",
    "            N = 0\n",
    "            for i in range(self.t):\n",
    "              if (self.bids_history[i] == bid):\n",
    "                f_t += self.f[i]\n",
    "                c_t += self.c[i]\n",
    "                N += 1\n",
    "            f_t = f_t/N\n",
    "            c_t = c_t/N\n",
    "            f_ucb = f_t + np.sqrt(2*math.log(self.T)/N)\n",
    "            c_lcb = c_t - np.sqrt(2*math.log(self.T)/N)\n",
    "            if (c_lcb<=self.rho and f_ucb>sup):\n",
    "              sup = f_ucb\n",
    "              f_opti = f_t\n",
    "              c_opti = c_t\n",
    "              best_bid = bid\n",
    "          self.bids_history.append(best_bid)\n",
    "          return best_bid\n",
    "\n",
    "    def update(self, f_t, c_t):\n",
    "      self.f.append(f_t)\n",
    "      self.c.append(c_t)\n",
    "      self.budget -= c_t\n",
    "      self.t += 1"
   ]
  },
  {
   "cell_type": "markdown",
   "metadata": {},
   "source": [
    "## Interaction"
   ]
  },
  {
   "cell_type": "code",
   "execution_count": 66,
   "metadata": {},
   "outputs": [],
   "source": [
    "T = 80\n",
    "\n",
    "pricingAgent = GPUCBAgent(T)\n",
    "pricingEnv = PricingEnvironment(conversion_probability, cost)\n",
    "\n",
    "learning_rate = 1/np.sqrt(n_auctions) # from theory\n",
    "auctionEnvTruthful = VCGAuction(q,lmb)\n",
    "\n",
    "agent_rewards = np.array([])\n",
    "expected_agent_reward = np.array([])\n",
    "users_per_day = np.array([])\n",
    "\n",
    "counter = 0\n",
    "\n",
    "for t in range(T):\n",
    "    p_t = pricingAgent.pull_arm()\n",
    "    auctionAgentTruthful = MultiplicativePacingAgent(valuation=p_t, budget=B, T=n_auctions, eta=learning_rate)\n",
    "    n_users = 0\n",
    "    for u in range(n_auctions):\n",
    "        my_bid = auctionAgentTruthful.bid()\n",
    "        all_bids = np.append(my_bid, np.transpose(other_bids)[u].ravel())\n",
    "        winners, payments_per_click = auctionEnvTruthful.round(bids=all_bids)\n",
    "        ctr = 0\n",
    "        if 0 in winners:\n",
    "            my_slot = np.where(winners == 0)[0]\n",
    "            c_t = payments_per_click[my_slot]\n",
    "            f_t = v[0]-c_t\n",
    "            ctr = lmb[my_slot]*q[0]\n",
    "        else:\n",
    "            c_t,f_t = 0,0\n",
    "        auctionAgentTruthful.update(f_t, c_t)\n",
    "        if random.random() < ctr:\n",
    "            n_users += 1\n",
    "    d_t, r_t = pricingEnv.round(p_t, n_users)\n",
    "    agent_rewards = np.append(agent_rewards, r_t)\n",
    "    pricingAgent.update(r_t)\n",
    "    users_per_day = np.append(users_per_day, n_users)\n"
   ]
  },
  {
   "cell_type": "code",
   "execution_count": 14,
   "metadata": {},
   "outputs": [
    {
     "data": {
      "text/plain": [
       "224.0"
      ]
     },
     "execution_count": 14,
     "metadata": {},
     "output_type": "execute_result"
    }
   ],
   "source": [
    "np.max(users_per_day)"
   ]
  },
  {
   "cell_type": "code",
   "execution_count": 67,
   "metadata": {},
   "outputs": [],
   "source": [
    "# let's compute the clairvoyant\n",
    "profit_curve = reward_function(prices,np.max(users_per_day)*conversion_probability(prices))\n",
    "best_price_index = np.argmax(profit_curve)\n",
    "best_price = prices[best_price_index]\n",
    "expected_clairvoyant_rewards = np.repeat(profit_curve[best_price_index], T)"
   ]
  },
  {
   "cell_type": "code",
   "execution_count": 68,
   "metadata": {},
   "outputs": [
    {
     "data": {
      "image/png": "[encoded data removed]",
      "text/plain": [
       "<Figure size 640x480 with 1 Axes>"
      ]
     },
     "metadata": {},
     "output_type": "display_data"
    }
   ],
   "source": [
    "cumulative_regret = np.cumsum(expected_clairvoyant_rewards-agent_rewards)\n",
    "plt.figure()\n",
    "plt.plot(cumulative_regret, label='Cumulative Regret')\n",
    "plt.title('Cumulative Regret of GP-UCB')\n",
    "plt.xlabel('$t$')\n",
    "plt.show();"
   ]
  },
  {
   "cell_type": "markdown",
   "metadata": {},
   "source": [
    "Performing the interaction using truthful auctions we can achieve sublinear regret. Note that we chose a very simple abstraction of the clairvoyant. Our clairvoyant just chooses the maximum profit price and assumes that maximum visitors visit the page. To get a better clairvoyant we would need to include a clairvoyant for bidding in the auction. But this simpler version is sufficient to tell that we can achieve sublinear regret in our setting."
   ]
  },
  {
   "cell_type": "code",
   "execution_count": 62,
   "metadata": {},
   "outputs": [],
   "source": [
    "T = 100\n",
    "\n",
    "pricingAgent = GPUCBAgent(T)\n",
    "pricingEnv = PricingEnvironment(conversion_probability, cost)\n",
    "\n",
    "auction = GeneralSecondPriceAuction(q, lmb)\n",
    "\n",
    "agent_rewards = np.array([])\n",
    "expected_agent_reward = np.array([])\n",
    "users_per_day = np.array([])\n",
    "\n",
    "counter = 0\n",
    "\n",
    "for t in range(T):\n",
    "    p_t = pricingAgent.pull_arm()\n",
    "    UCBAuctionAgent = UCBBiddingAgent(bids_set=available_bids, valuation=p_t, budget=B, T=n_auctions)\n",
    "    n_users = 0\n",
    "    for u in range(n_auctions):\n",
    "        my_bid = UCBAuctionAgent.bid()\n",
    "        all_bids = np.append(my_bid, np.transpose(other_bids)[u].ravel())\n",
    "        winners, payments_per_click = auction.round(bids=all_bids)\n",
    "        ctr = 0\n",
    "        if 0 in winners:\n",
    "            my_slot = np.where(winners == 0)[0]\n",
    "            c_t = payments_per_click[my_slot]\n",
    "            f_t = p_t-c_t\n",
    "            ctr = lmb[my_slot]*q[0]\n",
    "        else:\n",
    "            c_t,f_t = 0,0\n",
    "        UCBAuctionAgent.update(f_t, c_t)\n",
    "        if random.random() < ctr:\n",
    "            n_users += 1\n",
    "    d_t, r_t = pricingEnv.round(p_t, n_users)\n",
    "    agent_rewards = np.append(agent_rewards, r_t)\n",
    "    pricingAgent.update(r_t)\n",
    "    users_per_day = np.append(users_per_day, n_users)"
   ]
  },
  {
   "cell_type": "code",
   "execution_count": 63,
   "metadata": {},
   "outputs": [],
   "source": [
    "# let's compute the clairvoyant\n",
    "profit_curve = reward_function(prices,conversion_probability(prices))\n",
    "best_price_index = np.argmax(profit_curve)\n",
    "best_price = prices[best_price_index]\n",
    "expected_clairvoyant_rewards =np.repeat(profit_curve[best_price_index], T)"
   ]
  },
  {
   "cell_type": "code",
   "execution_count": 65,
   "metadata": {},
   "outputs": [
    {
     "data": {
      "image/png": "[encoded data removed]",
      "text/plain": [
       "<Figure size 640x480 with 1 Axes>"
      ]
     },
     "metadata": {},
     "output_type": "display_data"
    }
   ],
   "source": [
    "cumulative_regret = np.cumsum(expected_clairvoyant_rewards-agent_rewards)\n",
    "plt.figure()\n",
    "plt.plot(cumulative_regret, label='Cumulative Regret')\n",
    "plt.title('Cumulative Regret of GP-UCB with UCB-like bidding algorithm')\n",
    "plt.xlabel('$t$')\n",
    "plt.show();"
   ]
  }
 ],
 "metadata": {
  "kernelspec": {
   "display_name": "base",
   "language": "python",
   "name": "python3"
  },
  "language_info": {
   "codemirror_mode": {
    "name": "ipython",
    "version": 3
   },
   "file_extension": ".py",
   "mimetype": "text/x-python",
   "name": "python",
   "nbconvert_exporter": "python",
   "pygments_lexer": "ipython3",
   "version": "3.11.5"
  }
 },
 "nbformat": 4,
 "nbformat_minor": 2
}
